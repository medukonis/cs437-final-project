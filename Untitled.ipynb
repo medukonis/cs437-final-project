{
 "cells": [
  {
   "cell_type": "code",
   "execution_count": null,
   "id": "dbc62937",
   "metadata": {},
   "outputs": [],
   "source": [
    "import pandas as pd\n",
    "import numpy as np\n",
    "#Topic    Date    Time    Amps\n",
    " \n",
    "# Calling DataFrame constructor on list\n",
    "\n",
    "df = pd.read_csv('meduk2-capstone-data1.csv')\n",
    "df['datetime'] = pd.to_datetime(df['Date'] + ' ' + df['Time'])\n",
    "\n",
    "#will give hourly average\n",
    "df.groupby([df['datetime'].dt.hour, 'Date'])['Amps'].mean()\n",
    "\n",
    "df.plot(x='datetime', y='Amps', kind='bar')\n",
    "plt.show()\n",
    "\n",
    "#will write out the above to csv\n",
    "#df.groupby([df['datetime'].dt.hour, 'Date'])['Amps'].mean().to_csv('output.csv')\n",
    "\n",
    "\n",
    "#df.to_csv('output.csv')\n"
   ]
  },
  {
   "cell_type": "code",
   "execution_count": null,
   "id": "365495eb",
   "metadata": {},
   "outputs": [],
   "source": [
    "df['datetime'] = pd.to_datetime(df)"
   ]
  }
 ],
 "metadata": {
  "kernelspec": {
   "display_name": "Python 3 (ipykernel)",
   "language": "python",
   "name": "python3"
  },
  "language_info": {
   "codemirror_mode": {
    "name": "ipython",
    "version": 3
   },
   "file_extension": ".py",
   "mimetype": "text/x-python",
   "name": "python",
   "nbconvert_exporter": "python",
   "pygments_lexer": "ipython3",
   "version": "3.10.7"
  }
 },
 "nbformat": 4,
 "nbformat_minor": 5
}

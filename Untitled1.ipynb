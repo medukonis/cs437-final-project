{
 "cells": [
  {
   "cell_type": "code",
   "execution_count": null,
   "id": "06a765d6",
   "metadata": {},
   "outputs": [],
   "source": [
    "import pandas as pd\n",
    "import numpy as np\n",
    "import matplotlib.pyplot as plt\n",
    "#Topic    Date    Time    Amps\n",
    " \n",
    "# Calling DataFrame constructor on list\n",
    "\n",
    "df = pd.read_csv('meduk2-capstone-data1.csv')\n",
    "df['datetime'] = pd.to_datetime(df['Date'] + ' ' + df['Time'])\n",
    "\n",
    "#will give hourly average\n",
    "#df.groupby([df['datetime'].dt.hour, 'Date'])['Amps'].mean()\n",
    "\n",
    "\n",
    "\n",
    "#will write out the above to csvdf = pd.read_csv('meduk2-capstone-data1.csv')\n",
    "df.groupby([df['datetime'].dt.hour, 'Date'])['Amps'].mean().to_csv('output.csv')\n"
   ]
  },
  {
   "cell_type": "code",
   "execution_count": null,
   "id": "ecf44cc7",
   "metadata": {},
   "outputs": [],
   "source": []
  }
 ],
 "metadata": {
  "kernelspec": {
   "display_name": "Python 3 (ipykernel)",
   "language": "python",
   "name": "python3"
  },
  "language_info": {
   "codemirror_mode": {
    "name": "ipython",
    "version": 3
   },
   "file_extension": ".py",
   "mimetype": "text/x-python",
   "name": "python",
   "nbconvert_exporter": "python",
   "pygments_lexer": "ipython3",
   "version": "3.10.7"
  }
 },
 "nbformat": 4,
 "nbformat_minor": 5
}
